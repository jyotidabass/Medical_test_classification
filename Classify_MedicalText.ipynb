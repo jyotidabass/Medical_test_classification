{
  "cells": [
    {
      "cell_type": "markdown",
      "metadata": {
        "id": "view-in-github",
        "colab_type": "text"
      },
      "source": [
        "<a href=\"https://colab.research.google.com/github/jyotidabass/Medical_test_classification/blob/main/Classify_MedicalText.ipynb\" target=\"_parent\"><img src=\"https://colab.research.google.com/assets/colab-badge.svg\" alt=\"Open In Colab\"/></a>"
      ]
    },
    {
      "cell_type": "code",
      "execution_count": 92,
      "metadata": {
        "collapsed": true,
        "id": "8jmqIjePuotj"
      },
      "outputs": [],
      "source": [
        "import numpy as np\n",
        "import pandas as pd\n",
        "import scipy.sparse as sp\n",
        "from numpy.linalg import norm\n",
        "from collections import Counter, defaultdict\n",
        "from scipy.sparse import csr_matrix\n",
        "import nltk\n",
        "import string\n",
        "from sklearn.feature_extraction.text import CountVectorizer\n",
        "from collections import Counter\n",
        "import re\n",
        "from nltk.corpus import stopwords\n",
        "from string import digits\n",
        "#nltk.download(\"wordnet\")\n",
        "from nltk.stem import PorterStemmer, WordNetLemmatizer\n",
        "from collections import Counter\n",
        "from scipy.sparse import csr_matrix\n",
        "from sklearn import model_selection\n",
        "from sklearn.linear_model import LogisticRegression\n",
        "from sklearn.feature_extraction.text import CountVectorizer, TfidfTransformer\n",
        "from sklearn.svm import SVC\n",
        "from sklearn.metrics import confusion_matrix, classification_report\n"
      ]
    },
    {
      "cell_type": "code",
      "source": [
        "!git clone https://github.com/SnehaVM/Medical-Text-Classification--MachineLearning"
      ],
      "metadata": {
        "colab": {
          "base_uri": "https://localhost:8080/"
        },
        "id": "24IQLRDNutu6",
        "outputId": "8ee17331-dade-48c8-9b3f-26621bd1c9f1"
      },
      "execution_count": 93,
      "outputs": [
        {
          "output_type": "stream",
          "name": "stdout",
          "text": [
            "fatal: destination path 'Medical-Text-Classification--MachineLearning' already exists and is not an empty directory.\n"
          ]
        }
      ]
    },
    {
      "cell_type": "code",
      "source": [
        "# open docs file and read its lines\n",
        "with open(\"/content/Medical-Text-Classification--MachineLearning/data/Medical.dat\", \"r\") as fh:\n",
        "    lines = fh.readlines() \n",
        "    \n",
        "train_arr = []\n",
        "train_lbl = []\n",
        "\n",
        "for i in range(len(lines)):\n",
        "    train_arr.append(lines[i].lower()[2:])\n",
        "    train_lbl.append(lines[i][0:1])\n",
        "\n",
        "print (train_arr[0:2])\n",
        "print (train_lbl[0:2])"
      ],
      "metadata": {
        "colab": {
          "base_uri": "https://localhost:8080/"
        },
        "id": "t4neuhIJ6ObA",
        "outputId": "a1a11842-bc2b-4b37-896e-79c47d31b92a"
      },
      "execution_count": 53,
      "outputs": [
        {
          "output_type": "stream",
          "name": "stdout",
          "text": [
            "['\"diabetes mellitus refers to a group of diseases that affect how your body uses blood sugar (glucose). glucose is vital to your health because it\\'s an important source of energy for the cells that make up your muscles and tissues. it\\'s also your brain\\'s main source of fuel. the underlying cause of diabetes varies by type. but, no matter what type of diabetes you have, it can lead to excess sugar in your blood. too much sugar in your blood can lead to serious health problems. chronic diabetes conditions include type 1 diabetes and type 2 diabetes. potentially reversible diabetes conditions include prediabetes and gestational diabetes. prediabetes occurs when your blood sugar levels are higher than normal, but not high enough to be classified as diabetes. and prediabetes is often the precursor of diabetes unless appropriate measures are taken to prevent progression. gestational diabetes occurs during pregnancy but may resolve after the baby is delivered.\\n', 'high blood pressure (hypertension) is a common condition in which the long-term force of the blood against your artery walls is high enough that it may eventually cause health problems, such as heart disease. blood pressure is determined both by the amount of blood your heart pumps and the amount of resistance to blood flow in your arteries. the more blood your heart pumps and the narrower your arteries, the higher your blood pressure. a blood pressure reading is given in millimeters of mercury (mm hg).\\n']\n",
            "['1', '5']\n"
          ]
        }
      ]
    },
    {
      "cell_type": "markdown",
      "source": [
        "# open docs file and read its lines\n",
        "with open(\"/content/Medical-Text-Classification--MachineLearning/data/Medicaltrain.csv\", \"r\") as fh:lines = fh.readlines() \n",
        "    \n",
        "train_arr = []\n",
        "train_lbl = []\n",
        "\n",
        "for i in range(len(lines)):\n",
        "    train_arr.append(lines[i].lower()[2:])\n",
        "    train_lbl.append(lines[i][0:1])\n",
        "\n",
        "print (train_arr[0:2])\n",
        "print (train_lbl[0:2])"
      ],
      "metadata": {
        "id": "TKd_aSRuuotk"
      }
    },
    {
      "cell_type": "code",
      "source": [
        "import nltk\n",
        "nltk.download('stopwords')\n",
        "from nltk.corpus import stopwords\n",
        "STOPWORDS = set(stopwords.words('english'))"
      ],
      "metadata": {
        "colab": {
          "base_uri": "https://localhost:8080/"
        },
        "id": "-jLzKlPNv99g",
        "outputId": "bf06491e-33c6-4f8f-d174-f86b8c3b3025"
      },
      "execution_count": 54,
      "outputs": [
        {
          "output_type": "stream",
          "name": "stdout",
          "text": [
            "[nltk_data] Downloading package stopwords to /root/nltk_data...\n",
            "[nltk_data]   Package stopwords is already up-to-date!\n"
          ]
        }
      ]
    },
    {
      "cell_type": "code",
      "execution_count": 55,
      "metadata": {
        "colab": {
          "base_uri": "https://localhost:8080/"
        },
        "id": "bSCSX0fCuotl",
        "outputId": "f302befb-f734-4ee2-985b-0f3b3211f91e"
      },
      "outputs": [
        {
          "output_type": "stream",
          "name": "stdout",
          "text": [
            "Requirement already satisfied: stopwords in /usr/local/lib/python3.7/dist-packages (1.0.0)\n",
            "['\"abee mellu refer roup eae affec boy ue bloo uar (lucoe). lucoe val healh \\'mporan ource enery cell make mucle ue. \\'alo bran\\'man ource fuel. unerlyn caue abee vare ype. , maer ype abee , lea exce uar bloo. much uar bloo lea erou healh problem. chronc abee conon nclue ype abee ype abee. poenally reverble abee conon nclue preabee eaonal abee. preabee occur bloo uar level hher normal, hh enouh clafe abee. preabee ofen precuror abee unle approprae meaure aken preven proreon. eaonal abee occur prenancy reolve baby elvere.', 'hh bloo preure (hyperenon) common conon lon-erm force bloo arery wall hh enouh evenually caue healh problem, hear eae. bloo preure eermne amoun bloo hear pump amoun reance bloo flow arere. bloo hear pump narrower arere, hher bloo preure. bloo preure rean ven mllmeer mercury h).']\n"
          ]
        }
      ],
      "source": [
        "#remove short words\n",
        "!pip install stopwords\n",
        "def filterLen(tdocs, minlen):\n",
        "    return [ ' '.join(t for t in d if len(t) >= minlen ) for d in tdocs ]\n",
        "\n",
        "trainDocs = [l.split() for l in train_arr]\n",
        "train_filtered = filterLen(trainDocs,4)\n",
        "\n",
        "#lemmatize and remove stop words\n",
        "def preProcess(data_arr):\n",
        "    lemmatiser = WordNetLemmatizer()\n",
        "    pattern = re.compile(r'\\b(' + r'|'.join(stopwords.words('english')) + r')\\b\\s*')\n",
        "    #print train_arr[0:10]\n",
        "    for i in range(len(train_arr)):\n",
        "        data_arr[i] = pattern.sub('', data_arr[i])\n",
        "        map = str.maketrans('', '', 'digits')\n",
        "        data_arr[i] = data_arr[i].translate(map)\n",
        "        #data_arr[i] = nltk.word_tokenize(lemmatiser.lemmatize(data_arr[i],pos=\"v\").translate(None, string.punctuation))\n",
        "    return data_arr\n",
        "\n",
        "train_arr = preProcess(train_filtered)\n",
        "print (train_arr[0:2])"
      ]
    },
    {
      "cell_type": "code",
      "execution_count": 56,
      "metadata": {
        "colab": {
          "base_uri": "https://localhost:8080/"
        },
        "id": "N42-XaPeuotn",
        "outputId": "97eb82f6-8009-4965-f861-d19c9b73b784"
      },
      "outputs": [
        {
          "output_type": "stream",
          "name": "stdout",
          "text": [
            "(140, 126)\n"
          ]
        }
      ],
      "source": [
        "#create TDIF matrix\n",
        "vectorizer = CountVectorizer()\n",
        "tfidf = TfidfTransformer()\n",
        "vectorizer.fit(train_arr)\n",
        "x_train_arr = vectorizer.transform(train_arr)\n",
        "tfidf.fit(x_train_arr)\n",
        "x_train = tfidf.transform(x_train_arr)\n",
        "print (x_train.shape)\n"
      ]
    },
    {
      "cell_type": "code",
      "execution_count": 87,
      "metadata": {
        "id": "2vFAxAOKuotn"
      },
      "outputs": [],
      "source": [
        "# open docs file and read its lines - for test mode\n",
        "with open(\"/content/Medical-Text-Classification--MachineLearning/data/Medicaltest.dat\", \"r\") as fh: linesTest = fh.readlines() \n",
        "for i in range(len(linesTest)):\n",
        " test_arr.append(linesTest[i].lower())\n",
        "  \n",
        "# test_arr = preProcess(test_arr)\n",
        "vectorizer.fit(test_arr)\n",
        "x_test_arr = vectorizer.transform(test_arr)\n",
        "tfidf.fit(x_test_arr)\n",
        "x_test = tfidf.transform(x_test_arr)"
      ]
    },
    {
      "cell_type": "code",
      "execution_count": 88,
      "metadata": {
        "colab": {
          "base_uri": "https://localhost:8080/"
        },
        "id": "7cfLAitUuoto",
        "outputId": "2c76db47-379d-4ce5-8cf2-5059fe6ef5eb"
      },
      "outputs": [
        {
          "output_type": "stream",
          "name": "stdout",
          "text": [
            "(105, 126)\n",
            "(35, 126)\n",
            "(105,)\n",
            "(35,)\n"
          ]
        }
      ],
      "source": [
        "#split to train and test\n",
        "train_lbl = np.asarray(train_lbl)\n",
        "X_train, X_test, Y_train, Y_test = model_selection.train_test_split(x_train, train_lbl, test_size=0.25, random_state=42)\n",
        "print (X_train.shape)\n",
        "print (X_test.shape)\n",
        "\n",
        "print (Y_train.shape)\n",
        "print (Y_test.shape)\n"
      ]
    },
    {
      "cell_type": "code",
      "execution_count": 89,
      "metadata": {
        "colab": {
          "base_uri": "https://localhost:8080/"
        },
        "id": "3ZCtE_K-uotp",
        "outputId": "0a891fc4-b35a-4f04-9426-7747bf6bc30d"
      },
      "outputs": [
        {
          "output_type": "stream",
          "name": "stdout",
          "text": [
            "(105, 5)\n",
            "(35, 5)\n"
          ]
        },
        {
          "output_type": "stream",
          "name": "stderr",
          "text": [
            "/usr/local/lib/python3.7/dist-packages/sklearn/feature_selection/_univariate_selection.py:113: RuntimeWarning: divide by zero encountered in true_divide\n",
            "  f = msb / msw\n"
          ]
        }
      ],
      "source": [
        "from sklearn.feature_selection import SelectKBest,mutual_info_classif,f_classif,VarianceThreshold,chi2,SelectPercentile,SelectFdr\n",
        "featureSelector1 = SelectKBest(f_classif, k=5)\n",
        "X_new = featureSelector1.fit_transform(X_train,Y_train)\n",
        "print (X_new.shape)\n",
        "\n",
        "X_test_new = featureSelector1.transform(X_test)\n",
        "print (X_test_new.shape)\n",
        "\n",
        "X_new = X_train\n",
        "X_test_new = X_test"
      ]
    },
    {
      "cell_type": "code",
      "execution_count": 91,
      "metadata": {
        "colab": {
          "base_uri": "https://localhost:8080/",
          "height": 140
        },
        "id": "j9r9bO4buotp",
        "outputId": "5c7b379b-588c-4920-dda5-f86b9fe8fbf7"
      },
      "outputs": [
        {
          "output_type": "stream",
          "name": "stdout",
          "text": [
            "\n",
            " clasification report:\n",
            "\n"
          ]
        },
        {
          "output_type": "execute_result",
          "data": {
            "text/plain": [
              "'              precision    recall  f1-score   support\\n\\n           1       1.00      1.00      1.00         3\\n           2       1.00      1.00      1.00         7\\n           3       1.00      1.00      1.00         6\\n           4       1.00      1.00      1.00         6\\n           5       1.00      1.00      1.00        13\\n\\n    accuracy                           1.00        35\\n   macro avg       1.00      1.00      1.00        35\\nweighted avg       1.00      1.00      1.00        35\\n'"
            ],
            "application/vnd.google.colaboratory.intrinsic+json": {
              "type": "string"
            }
          },
          "metadata": {},
          "execution_count": 91
        }
      ],
      "source": [
        "from sklearn.ensemble import RandomForestClassifier, AdaBoostClassifier\n",
        "from sklearn.linear_model import SGDClassifier, LogisticRegression, Perceptron\n",
        "from sklearn.svm import LinearSVC\n",
        "#from sklearn.neural_network import MLPClassifier\n",
        "kfold = model_selection.StratifiedKFold(n_splits=5)\n",
        "#model = ExtraTreesClassifier(random_state=42, class_weight ='balanced_subsample', n_estimators=200,min_samples_split = 5)\n",
        "model = SGDClassifier(loss='hinge', penalty='l2',alpha=0.0004, max_iter=100, random_state=42)\n",
        "#model = LogisticRegression(class_weight='balanced', C=0.1)\n",
        "#model = MLPClassifier(max_iter=18)\n",
        "#model = AdaBoostClassifier(LinearSVC(penalty='l1', dual=False,tol=1e-3, class_weight='balanced',C=0.1),algorithm='SAMME')\n",
        "\n",
        "model.fit(X_new,Y_train)\n",
        "predict = model.predict(X_test_new)\n",
        "#Cross Validate\n",
        "#results = model_selection.cross_val_score(model, x_train, train_lbl, cv=kfold, scoring='f1_micro')\n",
        "#print(results.mean())\n",
        "\n",
        "print ('\\n clasification report:\\n')\n",
        "classification_report(Y_test,predict)"
      ]
    }
  ],
  "metadata": {
    "kernelspec": {
      "display_name": "Python 2",
      "language": "python",
      "name": "python2"
    },
    "language_info": {
      "codemirror_mode": {
        "name": "ipython",
        "version": 2
      },
      "file_extension": ".py",
      "mimetype": "text/x-python",
      "name": "python",
      "nbconvert_exporter": "python",
      "pygments_lexer": "ipython2",
      "version": "2.7.14"
    },
    "colab": {
      "name": "Classify_MedicalText.ipynb",
      "provenance": [],
      "include_colab_link": true
    }
  },
  "nbformat": 4,
  "nbformat_minor": 0
}